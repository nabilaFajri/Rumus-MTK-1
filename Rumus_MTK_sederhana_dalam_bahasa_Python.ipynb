{
  "nbformat": 4,
  "nbformat_minor": 0,
  "metadata": {
    "colab": {
      "provenance": []
    },
    "kernelspec": {
      "name": "python3",
      "display_name": "Python 3"
    },
    "language_info": {
      "name": "python"
    }
  },
  "cells": [
    {
      "cell_type": "markdown",
      "source": [
        "1. Rumus Penjumlahan =\n",
        "\n",
        "---\n",
        "\n"
      ],
      "metadata": {
        "id": "po8Yi99dGtEv"
      }
    },
    {
      "cell_type": "code",
      "source": [
        "a = 250\n",
        "b = 60\n",
        "hasil = a + b\n",
        "print(\"Hasil penjumlahan:\", hasil)"
      ],
      "metadata": {
        "colab": {
          "base_uri": "https://localhost:8080/"
        },
        "id": "r0JPujd7G5vf",
        "outputId": "bc6b722a-ee7d-4aa7-ef7e-924be083f488"
      },
      "execution_count": 10,
      "outputs": [
        {
          "output_type": "stream",
          "name": "stdout",
          "text": [
            "Hasil penjumlahan: 310\n"
          ]
        }
      ]
    },
    {
      "cell_type": "markdown",
      "source": [
        "2. Rumus Pengurangan =\n",
        "\n",
        "---\n",
        "\n"
      ],
      "metadata": {
        "id": "VVMLC8hcHAvo"
      }
    },
    {
      "cell_type": "code",
      "source": [
        "a = 300\n",
        "b = 150\n",
        "hasil = a - b\n",
        "print(\"Hasil pengurangan:\", hasil)"
      ],
      "metadata": {
        "colab": {
          "base_uri": "https://localhost:8080/"
        },
        "id": "ulesLhekHcr_",
        "outputId": "ee3a86ee-a29f-479b-fe50-b4ad202dccbf"
      },
      "execution_count": 11,
      "outputs": [
        {
          "output_type": "stream",
          "name": "stdout",
          "text": [
            "Hasil pengurangan: 150\n"
          ]
        }
      ]
    },
    {
      "cell_type": "markdown",
      "source": [
        "3. Rumus Perkalian =\n",
        "\n",
        "---\n",
        "\n"
      ],
      "metadata": {
        "id": "ylpt_xINHgBB"
      }
    },
    {
      "cell_type": "code",
      "source": [
        "a = 50\n",
        "b = 9\n",
        "hasil = a * b\n",
        "print(\"Hasil perkalian:\", hasil)"
      ],
      "metadata": {
        "colab": {
          "base_uri": "https://localhost:8080/"
        },
        "id": "uEQFr0BJHnIJ",
        "outputId": "dc6631f2-c5b2-4687-8627-f07f1e939aa7"
      },
      "execution_count": 12,
      "outputs": [
        {
          "output_type": "stream",
          "name": "stdout",
          "text": [
            "Hasil perkalian: 450\n"
          ]
        }
      ]
    },
    {
      "cell_type": "markdown",
      "source": [
        "4. Rumus Pembagian ="
      ],
      "metadata": {
        "id": "HiJKnbn_H2cX"
      }
    },
    {
      "cell_type": "code",
      "source": [
        "a = 100\n",
        "b = 2\n",
        "hasil = a / b\n",
        "print(\"Hasil pembagian:\", hasil)"
      ],
      "metadata": {
        "colab": {
          "base_uri": "https://localhost:8080/"
        },
        "id": "gGJ_92kAHyn-",
        "outputId": "923e59b9-c897-4977-9173-9f72a801bff0"
      },
      "execution_count": 13,
      "outputs": [
        {
          "output_type": "stream",
          "name": "stdout",
          "text": [
            "Hasil pembagian: 50.0\n"
          ]
        }
      ]
    },
    {
      "cell_type": "markdown",
      "source": [
        "5. Rumus Perpangkatan =\n",
        "\n",
        "---\n",
        "\n"
      ],
      "metadata": {
        "id": "UvS9P5UQH-O_"
      }
    },
    {
      "cell_type": "code",
      "source": [
        "a = 8\n",
        "b = 10\n",
        "hasil = a ** b\n",
        "print(\"Hasil perpangkatan:\", hasil)"
      ],
      "metadata": {
        "colab": {
          "base_uri": "https://localhost:8080/"
        },
        "id": "JDInxVoqIC9H",
        "outputId": "4da4c2cf-6281-4aa6-d0a8-79683f23aceb"
      },
      "execution_count": 14,
      "outputs": [
        {
          "output_type": "stream",
          "name": "stdout",
          "text": [
            "Hasil perpangkatan: 1073741824\n"
          ]
        }
      ]
    }
  ]
}